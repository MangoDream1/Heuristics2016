{
 "cells": [
  {
   "cell_type": "markdown",
   "metadata": {},
   "source": [
    "--------------\n",
    "Get Data:"
   ]
  },
  {
   "cell_type": "code",
   "execution_count": 52,
   "metadata": {
    "collapsed": true
   },
   "outputs": [],
   "source": [
    "g = lambda x: [y.strip() for y in x]"
   ]
  },
  {
   "cell_type": "code",
   "execution_count": 53,
   "metadata": {
    "collapsed": false
   },
   "outputs": [],
   "source": [
    "classRooms = [\n",
    "    \"A1.04 \t41\",\n",
    "    \"A1.06 \t22\",\n",
    "    \"A1.08 \t20\",\n",
    "    \"A1.10 \t56\",\n",
    "    \"B0.201 \t48\",\n",
    "    \"C0.110 \t117\",\n",
    "    \"C1.112 \t60\",]\n",
    "\n",
    "classRooms = [g(x.split(\"\\t\")) for x in classRooms]"
   ]
  },
  {
   "cell_type": "code",
   "execution_count": 54,
   "metadata": {
    "collapsed": true
   },
   "outputs": [],
   "source": [
    "subjects = \"\"\"Advanced Heuristics \t1 \t0 \tnvt \t1 \t10\n",
    "Algoritmen en complexiteit \t1 \t1 \t25 \t1 \t25\n",
    "Analysemethoden en -technieken \t1 \t0 \tnvt \t0 \tnvt\n",
    "Architectuur en computerorganisatie \t2 \t0 \tnvt \t0 \tnvt\n",
    "Autonomous Agents 2 \t2 \t1 \t10 \t1 \t10\n",
    "Bioinformatica \t3 \t1 \t20 \t1 \t20\n",
    "Calculus 2 \t1 \t1 \t40 \t0 \tnvt\n",
    "Collectieve Intelligentie \t3 \t1 \t20 \t1 \t20\n",
    "Compilerbouw \t2 \t1 \t40 \t1 \t40\n",
    "Compilerbouw (practicum) \t0 \t0 \tnvt \t1 \t15\n",
    "Data Mining \t2 \t1 \t10 \t1 \t10\n",
    "Databases 2 \t1 \t1 \t40 \t0 \tnvt\n",
    "Heuristieken 1 \t1 \t1 \t25 \t0 \tnvt\n",
    "Heuristieken 2 \t1 \t1 \t20 \t0 \tnvt\n",
    "Informatie- en organisatieontwerp \t2 \t1 \t15 \t1 \t15\n",
    "Interactie-ontwerp \t2 \t0 \tnvt \t0 \tnvt\n",
    "Kansrekenen 2 \t2 \t0 \tnvt \t0 \tnvt\n",
    "Lineaire Algebra \t2 \t0 \tnvt \t0 \tnvt\n",
    "Machine Learning \t2 \t0 \tnvt \t0 \tnvt\n",
    "Moderne Databases \t1 \t1 \t20 \t1 \t20\n",
    "Netwerken en systeembeveiliging \t0 \t0 \tnvt \t1 \t20\n",
    "Programmeren in Java 2 \t0 \t0 \tnvt \t1 \t20\n",
    "Project Genetic Algorithms \t0 \t0 \tnvt \t1 \t15\n",
    "Project Numerical Recipes \t0 \t0 \tnvt \t1 \t15\n",
    "Reflectie op de digitale cultuur \t2 \t1 \t20 \t0 \tnvt\n",
    "Software engineering \t1 \t1 \t40 \t1 \t40\n",
    "Technology for games \t2 \t1 \t20 \t0 \tnvt\n",
    "Webprogrammeren en databases \t2 \t1 \t20 \t1 \t20\n",
    "Zoeken, sturen en bewegen \t0 \t0 \tnvt \t1 \t15\"\"\"\n",
    "\n",
    "subjects = [g(x.split(\"\\t\")) for x in subjects.split(\"\\n\")]"
   ]
  },
  {
   "cell_type": "code",
   "execution_count": 55,
   "metadata": {
    "collapsed": false
   },
   "outputs": [],
   "source": [
    "students = []\n",
    "\n",
    "import csv\n",
    "\n",
    "with open('studenten_roostering.csv', 'r') as csvfile:\n",
    "    r = csv.reader(csvfile, delimiter=',', quotechar='|')\n",
    "    \n",
    "    # Skip title\n",
    "    next(r, None)\n",
    "    \n",
    "    for row in r:\n",
    "        students.append(row)"
   ]
  },
  {
   "cell_type": "markdown",
   "metadata": {},
   "source": [
    "--------------\n",
    "Classes:"
   ]
  },
  {
   "cell_type": "code",
   "execution_count": 56,
   "metadata": {
    "collapsed": false
   },
   "outputs": [],
   "source": [
    "class ClassRoom:\n",
    "    def __init__(self, room_number, capacity):\n",
    "        self.room_number = room_number\n",
    "        self.capacity = capacity\n",
    "    \n",
    "    def __str__(self):\n",
    "        return self.room_number"
   ]
  },
  {
   "cell_type": "code",
   "execution_count": 68,
   "metadata": {
    "collapsed": true
   },
   "outputs": [],
   "source": [
    "class Subject:\n",
    "    def __init__(self, name, n_lectures, n_workLectures, w_maxStud, \n",
    "                 n_praticas, p_maxStud):\n",
    "        \n",
    "        self.name = name\n",
    "        \n",
    "        self.lectures = []\n",
    "        self.workLectures = []\n",
    "        self.praticas = []\n",
    "        \n",
    "        for i in range(int(n_lectures)):\n",
    "            self.lectures.append(Lecture(i, \"nvt\"))\n",
    "            \n",
    "        for i in range(int(n_workLectures)):\n",
    "            self.workLectures.append(Lecture(i, w_maxStud))\n",
    "            \n",
    "        for i in range(int(n_praticas)):\n",
    "            self.praticas.append(Lecture(i, p_maxStud))\n",
    "        \n",
    "        self.students = []\n",
    "        \n",
    "    def __str__(self):\n",
    "        return self.name"
   ]
  },
  {
   "cell_type": "code",
   "execution_count": 58,
   "metadata": {
    "collapsed": true
   },
   "outputs": [],
   "source": [
    "class Lecture:\n",
    "    def __init__(self, lecture_number, maxStud):\n",
    "        self.lecture_number = lecture_number\n",
    "        \n",
    "        if maxStud == \"nvt\":\n",
    "            self.maxStud = 0\n",
    "        else:\n",
    "            self.maxStud = maxStud\n",
    "            \n",
    "        self.maxStud = maxStud\n",
    "        \n",
    "    def __str__(self):\n",
    "        return \"%s %s %s\" % (type(self), self.lecture_number, self.maxStud)\n",
    "    "
   ]
  },
  {
   "cell_type": "code",
   "execution_count": 59,
   "metadata": {
    "collapsed": false
   },
   "outputs": [],
   "source": [
    "class Student:\n",
    "    def __init__(self, surname, name, studentId, subject1, subject2, \n",
    "                 subject3, subject4, subject5, subject_dct):\n",
    "        \n",
    "        self.surname = surname\n",
    "        self.name = name\n",
    "        self.studentId = studentId\n",
    "        \n",
    "        self.subjectNames = []\n",
    "        self.__addSubject(subject1)\n",
    "        self.__addSubject(subject2)\n",
    "        self.__addSubject(subject3)\n",
    "        self.__addSubject(subject4)\n",
    "        self.__addSubject(subject5)\n",
    "        \n",
    "        self.subjects = []\n",
    "        \n",
    "        self.__clean_up()\n",
    "        self.__fillInSubject(subject_dct)\n",
    "        self.__addStudentToSubject()\n",
    "        \n",
    "    def __str__(self):\n",
    "        return \"%s %s %s\" % (self.name, self.surname, self.studentId)\n",
    "    \n",
    "    def __addSubject(self, subject):\n",
    "        if subject != \"\":\n",
    "            self.subjectNames.append(subject)\n",
    "    \n",
    "    def __addStudentToSubject(self):\n",
    "        for subject in self.subjects:\n",
    "            subject.students.append(self)\n",
    "    \n",
    "    def __clean_up(self):\n",
    "        # Fixes CSV errors\n",
    "        \n",
    "        for i, x in enumerate(self.subjectNames):\n",
    "            if x == \"Zoeken\":\n",
    "                self.subjectNames[i] = \"Zoeken, sturen en bewegen\"\n",
    "            if x == \" sturen en bewegen\":\n",
    "                del self.subjectNames[i]\n",
    "            if x == \"Compilerbouw practicum\":\n",
    "                self.subjectNames[i] = \"Compilerbouw (practicum)\"\n",
    "            if x == \"Informatie- en organsatieontwerp\":\n",
    "                self.subjectNames[i] = \"Informatie- en organisatieontwerp\"\n",
    "                \n",
    "    def __fillInSubject(self, subject_dct):\n",
    "        for subjectName in self.subjectNames:\n",
    "            self.subjects.append(subject_dct[subjectName])"
   ]
  },
  {
   "cell_type": "markdown",
   "metadata": {},
   "source": [
    "--------------\n",
    "Transform data:"
   ]
  },
  {
   "cell_type": "code",
   "execution_count": 60,
   "metadata": {
    "collapsed": false
   },
   "outputs": [],
   "source": [
    "classRooms = [ClassRoom(x[0], x[1]) for x in classRooms]\n",
    "\n",
    "subjects = [Subject(x[0], x[1], x[2], x[3], x[4], x[5]) for x in subjects]\n",
    "subject_dct = {x.__str__(): x for x in subjects}\n",
    "\n",
    "students = [Student(x[0], x[1], x[2], x[3], x[4], x[5], x[6], x[7], subject_dct) \n",
    "            for x in students]\n"
   ]
  },
  {
   "cell_type": "code",
   "execution_count": 67,
   "metadata": {
    "collapsed": false
   },
   "outputs": [
    {
     "name": "stdout",
     "output_type": "stream",
     "text": [
      "Architectuur en computerorganisatie\n"
     ]
    },
    {
     "data": {
      "text/plain": [
       "[]"
      ]
     },
     "execution_count": 67,
     "metadata": {},
     "output_type": "execute_result"
    }
   ],
   "source": [
    "i=3\n",
    "\n",
    "print(subjects[i])\n",
    "[x.__str__() for x in subjects[i].workLectures]"
   ]
  },
  {
   "cell_type": "code",
   "execution_count": 62,
   "metadata": {
    "collapsed": false
   },
   "outputs": [
    {
     "name": "stdout",
     "output_type": "stream",
     "text": [
      "Algoritmen en complexiteit\n"
     ]
    },
    {
     "data": {
      "text/plain": [
       "['Edin Bastings 82689818',\n",
       " 'Mattijs Baudoin 81385263',\n",
       " 'Angèle Berentsen 78136904',\n",
       " 'Emil Bergmans 8522855',\n",
       " 'Saba Bhaggoe 41585485',\n",
       " 'Narin Boshuis 19540225',\n",
       " 'Ethan Broer 14671406',\n",
       " 'Wytske Buining 86988337',\n",
       " 'Lucienne Caris 12077419',\n",
       " 'Manuël de Boon 46701583',\n",
       " 'Janniek de Leest 66433883',\n",
       " 'Brigitta Diallo 50143947',\n",
       " 'André Dieters 57467488',\n",
       " 'Ko Droste 26260141',\n",
       " 'Jurrian Fekkes 27298319',\n",
       " 'Yalda Grootenboer 72895450',\n",
       " 'Frédéric IJkema 77376714',\n",
       " 'Jenske Jongejan 15902055',\n",
       " 'Chi Liebregts 88596522',\n",
       " 'Fredrika Lopez 21095566',\n",
       " 'Lisse Moes 53585410',\n",
       " 'Inas Niezen 67817269',\n",
       " 'Vincentius Pater 34765676',\n",
       " 'Solane Paulissen 1665980',\n",
       " 'Rémy Piek 5976174',\n",
       " 'Timo Postuma 36903574',\n",
       " 'Desireé Potgieter 64947290',\n",
       " 'Cheyenna Reuvekamp 3474870',\n",
       " 'Karam Rinkel 41527759',\n",
       " 'Ziya Rooijmans 43902015',\n",
       " 'Tevfik Rothuizen 40343779',\n",
       " 'Logan Sonnemans 91527663',\n",
       " 'Franke Stoppels 64554442',\n",
       " 'Ard Tielemans 21964491',\n",
       " 'Deejay van der Geer 51566595',\n",
       " 'Ay?egül van der Marel 51509565',\n",
       " 'Aïcha van der Meer 23983476',\n",
       " 'Berit van Ingen 3707829',\n",
       " 'Jodi van Riel 58592894',\n",
       " 'Julot van Teeffelen 96453361',\n",
       " 'Laurent Wallenburg 44828429',\n",
       " 'Yuna Winkelaar 23652927',\n",
       " 'Gabriëlla Yazici 52715680']"
      ]
     },
     "execution_count": 62,
     "metadata": {},
     "output_type": "execute_result"
    }
   ],
   "source": [
    "# Laat alle studenten in Algoritmen en complexiteit zien:\n",
    "\n",
    "print(subjects[1])\n",
    "[x.__str__() for x in subjects[1].students]"
   ]
  },
  {
   "cell_type": "code",
   "execution_count": null,
   "metadata": {
    "collapsed": true
   },
   "outputs": [],
   "source": []
  }
 ],
 "metadata": {
  "kernelspec": {
   "display_name": "Python 3",
   "language": "python",
   "name": "python3"
  },
  "language_info": {
   "codemirror_mode": {
    "name": "ipython",
    "version": 3
   },
   "file_extension": ".py",
   "mimetype": "text/x-python",
   "name": "python",
   "nbconvert_exporter": "python",
   "pygments_lexer": "ipython3",
   "version": "3.5.2"
  }
 },
 "nbformat": 4,
 "nbformat_minor": 1
}
