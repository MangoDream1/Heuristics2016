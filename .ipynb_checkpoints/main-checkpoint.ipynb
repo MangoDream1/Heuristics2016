{
 "cells": [
  {
   "cell_type": "markdown",
   "metadata": {},
   "source": [
    "--------------\n",
    "Get Data:"
   ]
  },
  {
   "cell_type": "code",
   "execution_count": 96,
   "metadata": {
    "collapsed": true
   },
   "outputs": [],
   "source": [
    "g = lambda x: [y.strip() for y in x]"
   ]
  },
  {
   "cell_type": "code",
   "execution_count": 97,
   "metadata": {
    "collapsed": false
   },
   "outputs": [],
   "source": [
    "classRooms = [\n",
    "    \"A1.04 \t41\",\n",
    "    \"A1.06 \t22\",\n",
    "    \"A1.08 \t20\",\n",
    "    \"A1.10 \t56\",\n",
    "    \"B0.201 \t48\",\n",
    "    \"C0.110 \t117\",\n",
    "    \"C1.112 \t60\",]\n",
    "\n",
    "classRooms = [g(x.split(\"\\t\")) for x in classRooms]"
   ]
  },
  {
   "cell_type": "code",
   "execution_count": 98,
   "metadata": {
    "collapsed": true
   },
   "outputs": [],
   "source": [
    "subjects = \"\"\"Advanced Heuristics \t1 \t0 \tnvt \t1 \t10\n",
    "Algoritmen en complexiteit \t1 \t1 \t25 \t1 \t25\n",
    "Analysemethoden en -technieken \t1 \t0 \tnvt \t0 \tnvt\n",
    "Architectuur en computerorganisatie \t2 \t0 \tnvt \t0 \tnvt\n",
    "Autonomous Agents 2 \t2 \t1 \t10 \t1 \t10\n",
    "Bioinformatica \t3 \t1 \t20 \t1 \t20\n",
    "Calculus 2 \t1 \t1 \t40 \t0 \tnvt\n",
    "Collectieve Intelligentie \t3 \t1 \t20 \t1 \t20\n",
    "Compilerbouw \t2 \t1 \t40 \t1 \t40\n",
    "Compilerbouw (practicum) \t0 \t0 \tnvt \t1 \t15\n",
    "Data Mining \t2 \t1 \t10 \t1 \t10\n",
    "Databases 2 \t1 \t1 \t40 \t0 \tnvt\n",
    "Heuristieken 1 \t1 \t1 \t25 \t0 \tnvt\n",
    "Heuristieken 2 \t1 \t1 \t20 \t0 \tnvt\n",
    "Informatie- en organisatieontwerp \t2 \t1 \t15 \t1 \t15\n",
    "Interactie-ontwerp \t2 \t0 \tnvt \t0 \tnvt\n",
    "Kansrekenen 2 \t2 \t0 \tnvt \t0 \tnvt\n",
    "Lineaire Algebra \t2 \t0 \tnvt \t0 \tnvt\n",
    "Machine Learning \t2 \t0 \tnvt \t0 \tnvt\n",
    "Moderne Databases \t1 \t1 \t20 \t1 \t20\n",
    "Netwerken en systeembeveiliging \t0 \t0 \tnvt \t1 \t20\n",
    "Programmeren in Java 2 \t0 \t0 \tnvt \t1 \t20\n",
    "Project Genetic Algorithms \t0 \t0 \tnvt \t1 \t15\n",
    "Project Numerical Recipes \t0 \t0 \tnvt \t1 \t15\n",
    "Reflectie op de digitale cultuur \t2 \t1 \t20 \t0 \tnvt\n",
    "Software engineering \t1 \t1 \t40 \t1 \t40\n",
    "Technology for games \t2 \t1 \t20 \t0 \tnvt\n",
    "Webprogrammeren en databases \t2 \t1 \t20 \t1 \t20\n",
    "Zoeken, sturen en bewegen \t0 \t0 \tnvt \t1 \t15\"\"\"\n",
    "\n",
    "subjects = [g(x.split(\"\\t\")) for x in subjects.split(\"\\n\")]"
   ]
  },
  {
   "cell_type": "code",
   "execution_count": 99,
   "metadata": {
    "collapsed": false
   },
   "outputs": [],
   "source": [
    "students = []\n",
    "\n",
    "import csv\n",
    "\n",
    "with open('studenten_roostering.csv', 'r') as csvfile:\n",
    "    r = csv.reader(csvfile, delimiter=',', quotechar='|')\n",
    "    \n",
    "    # Skip title\n",
    "    next(r, None)\n",
    "    \n",
    "    for row in r:\n",
    "        students.append(row)"
   ]
  },
  {
   "cell_type": "markdown",
   "metadata": {},
   "source": [
    "--------------\n",
    "Classes:"
   ]
  },
  {
   "cell_type": "code",
   "execution_count": 100,
   "metadata": {
    "collapsed": false
   },
   "outputs": [],
   "source": [
    "class ClassRoom:\n",
    "    def __init__(self, room_number, capacity):\n",
    "        self.room_number = room_number\n",
    "        self.capacity = capacity\n",
    "    \n",
    "    def __str__(self):\n",
    "        return self.room_number"
   ]
  },
  {
   "cell_type": "code",
   "execution_count": 101,
   "metadata": {
    "collapsed": true
   },
   "outputs": [],
   "source": [
    "class Subject:\n",
    "    def __init__(self, name, n_lectures, n_workLectures, w_maxStud, \n",
    "                 n_praticas, p_maxStud):\n",
    "        \n",
    "        self.name = name\n",
    "        self.lecture = Lecture(n_lectures, \"nvt\")\n",
    "        self.workLecture = Lecture(n_workLectures, w_maxStud)\n",
    "        self.pratica = Lecture(n_praticas, p_maxStud)\n",
    "        self.students = []\n",
    "        \n",
    "    def __str__(self):\n",
    "        return self.name"
   ]
  },
  {
   "cell_type": "code",
   "execution_count": 102,
   "metadata": {
    "collapsed": true
   },
   "outputs": [],
   "source": [
    "class Lecture:\n",
    "    def __init__(self, n_lectures, maxStud):\n",
    "        self.n_lectures = n_lectures\n",
    "        \n",
    "        if maxStud == \"nvt\":\n",
    "            self.maxStud = 0\n",
    "        else:\n",
    "            self.maxStud = maxStud\n",
    "            \n",
    "        self.maxStud = maxStud\n",
    "        \n",
    "    def __str__(self):\n",
    "        return \"%s %s\" % (type(self), self.n_lectures, self.maxStud)\n",
    "    "
   ]
  },
  {
   "cell_type": "code",
   "execution_count": 103,
   "metadata": {
    "collapsed": false
   },
   "outputs": [],
   "source": [
    "class Student:\n",
    "    def __init__(self, surname, name, studentId, subject1, subject2, \n",
    "                 subject3, subject4, subject5, subject_dct):\n",
    "        \n",
    "        self.surname = surname\n",
    "        self.name = name\n",
    "        self.studentId = studentId\n",
    "        \n",
    "        self.subjects = []\n",
    "        self.addSubject(subject1, subject_dct)\n",
    "        self.addSubject(subject2, subject_dct)\n",
    "        self.addSubject(subject3, subject_dct)\n",
    "        self.addSubject(subject4, subject_dct)\n",
    "        self.addSubject(subject5, subject_dct)\n",
    "        \n",
    "        self.clean_up()\n",
    "        \n",
    "    def __str__(self):\n",
    "        return \"%s %s %s\" % (self.name, self.surname, self.studentId)\n",
    "    \n",
    "    def addSubject(self, subject, subject_dct):\n",
    "        if subject != \"\":\n",
    "            self.subjects.append(subject_dct[subject])\n",
    "            \n",
    "            self.addStudentToSubject(subject_dct[subject])\n",
    "    \n",
    "    def addStudentToSubject(self, subjectObject):\n",
    "        subjectObject.students.append(self)\n",
    "    \n",
    "    def clean_up(self):\n",
    "        # Fixes CSV errors\n",
    "        \n",
    "        for i, x in enumerate(self.subjects):\n",
    "            if x == \"Zoeken\":\n",
    "                self.subjects[i] = \"Zoeken, sturen en bewegen\"\n",
    "            if x == \" sturen en bewegen\":\n",
    "                self.subjects[i] = ''\n",
    "            if x == \"Compilerbouw practicum\":\n",
    "                print(\"test\")\n",
    "                self.subjects[i] = \"Compilerbouw (practicum)\""
   ]
  },
  {
   "cell_type": "markdown",
   "metadata": {},
   "source": [
    "--------------\n",
    "Transform data:"
   ]
  },
  {
   "cell_type": "code",
   "execution_count": null,
   "metadata": {
    "collapsed": true
   },
   "outputs": [],
   "source": []
  },
  {
   "cell_type": "code",
   "execution_count": 104,
   "metadata": {
    "collapsed": false
   },
   "outputs": [
    {
     "ename": "KeyError",
     "evalue": "'Compilerbouw practicum'",
     "output_type": "error",
     "traceback": [
      "\u001b[0;31m---------------------------------------------------------------------------\u001b[0m",
      "\u001b[0;31mKeyError\u001b[0m                                  Traceback (most recent call last)",
      "\u001b[0;32m<ipython-input-104-3457b7cc1d51>\u001b[0m in \u001b[0;36m<module>\u001b[0;34m()\u001b[0m\n\u001b[1;32m      5\u001b[0m \u001b[1;33m\u001b[0m\u001b[0m\n\u001b[1;32m      6\u001b[0m students = [Student(x[0], x[1], x[2], x[3], x[4], x[5], x[6], x[7], subject_dct) \n\u001b[0;32m----> 7\u001b[0;31m             for x in students]\n\u001b[0m",
      "\u001b[0;32m<ipython-input-104-3457b7cc1d51>\u001b[0m in \u001b[0;36m<listcomp>\u001b[0;34m(.0)\u001b[0m\n\u001b[1;32m      5\u001b[0m \u001b[1;33m\u001b[0m\u001b[0m\n\u001b[1;32m      6\u001b[0m students = [Student(x[0], x[1], x[2], x[3], x[4], x[5], x[6], x[7], subject_dct) \n\u001b[0;32m----> 7\u001b[0;31m             for x in students]\n\u001b[0m",
      "\u001b[0;32m<ipython-input-103-49e5e3cb0424>\u001b[0m in \u001b[0;36m__init__\u001b[0;34m(self, surname, name, studentId, subject1, subject2, subject3, subject4, subject5, subject_dct)\u001b[0m\n\u001b[1;32m      8\u001b[0m \u001b[1;33m\u001b[0m\u001b[0m\n\u001b[1;32m      9\u001b[0m         \u001b[0mself\u001b[0m\u001b[1;33m.\u001b[0m\u001b[0msubjects\u001b[0m \u001b[1;33m=\u001b[0m \u001b[1;33m[\u001b[0m\u001b[1;33m]\u001b[0m\u001b[1;33m\u001b[0m\u001b[0m\n\u001b[0;32m---> 10\u001b[0;31m         \u001b[0mself\u001b[0m\u001b[1;33m.\u001b[0m\u001b[0maddSubject\u001b[0m\u001b[1;33m(\u001b[0m\u001b[0msubject1\u001b[0m\u001b[1;33m,\u001b[0m \u001b[0msubject_dct\u001b[0m\u001b[1;33m)\u001b[0m\u001b[1;33m\u001b[0m\u001b[0m\n\u001b[0m\u001b[1;32m     11\u001b[0m         \u001b[0mself\u001b[0m\u001b[1;33m.\u001b[0m\u001b[0maddSubject\u001b[0m\u001b[1;33m(\u001b[0m\u001b[0msubject2\u001b[0m\u001b[1;33m,\u001b[0m \u001b[0msubject_dct\u001b[0m\u001b[1;33m)\u001b[0m\u001b[1;33m\u001b[0m\u001b[0m\n\u001b[1;32m     12\u001b[0m         \u001b[0mself\u001b[0m\u001b[1;33m.\u001b[0m\u001b[0maddSubject\u001b[0m\u001b[1;33m(\u001b[0m\u001b[0msubject3\u001b[0m\u001b[1;33m,\u001b[0m \u001b[0msubject_dct\u001b[0m\u001b[1;33m)\u001b[0m\u001b[1;33m\u001b[0m\u001b[0m\n",
      "\u001b[0;32m<ipython-input-103-49e5e3cb0424>\u001b[0m in \u001b[0;36maddSubject\u001b[0;34m(self, subject, subject_dct)\u001b[0m\n\u001b[1;32m     21\u001b[0m     \u001b[1;32mdef\u001b[0m \u001b[0maddSubject\u001b[0m\u001b[1;33m(\u001b[0m\u001b[0mself\u001b[0m\u001b[1;33m,\u001b[0m \u001b[0msubject\u001b[0m\u001b[1;33m,\u001b[0m \u001b[0msubject_dct\u001b[0m\u001b[1;33m)\u001b[0m\u001b[1;33m:\u001b[0m\u001b[1;33m\u001b[0m\u001b[0m\n\u001b[1;32m     22\u001b[0m         \u001b[1;32mif\u001b[0m \u001b[0msubject\u001b[0m \u001b[1;33m!=\u001b[0m \u001b[1;34m\"\"\u001b[0m\u001b[1;33m:\u001b[0m\u001b[1;33m\u001b[0m\u001b[0m\n\u001b[0;32m---> 23\u001b[0;31m             \u001b[0mself\u001b[0m\u001b[1;33m.\u001b[0m\u001b[0msubjects\u001b[0m\u001b[1;33m.\u001b[0m\u001b[0mappend\u001b[0m\u001b[1;33m(\u001b[0m\u001b[0msubject_dct\u001b[0m\u001b[1;33m[\u001b[0m\u001b[0msubject\u001b[0m\u001b[1;33m]\u001b[0m\u001b[1;33m)\u001b[0m\u001b[1;33m\u001b[0m\u001b[0m\n\u001b[0m\u001b[1;32m     24\u001b[0m \u001b[1;33m\u001b[0m\u001b[0m\n\u001b[1;32m     25\u001b[0m             \u001b[0mself\u001b[0m\u001b[1;33m.\u001b[0m\u001b[0maddStudentToSubject\u001b[0m\u001b[1;33m(\u001b[0m\u001b[0msubject_dct\u001b[0m\u001b[1;33m[\u001b[0m\u001b[0msubject\u001b[0m\u001b[1;33m]\u001b[0m\u001b[1;33m)\u001b[0m\u001b[1;33m\u001b[0m\u001b[0m\n",
      "\u001b[0;31mKeyError\u001b[0m: 'Compilerbouw practicum'"
     ]
    }
   ],
   "source": [
    "classRooms = [ClassRoom(x[0], x[1]) for x in classRooms]\n",
    "\n",
    "subjects = [Subject(x[0], x[1], x[2], x[3], x[4], x[5]) for x in subjects]\n",
    "subject_dct = {x.__str__(): x for x in subjects}\n",
    "\n",
    "students = [Student(x[0], x[1], x[2], x[3], x[4], x[5], x[6], x[7], subject_dct) \n",
    "            for x in students]\n"
   ]
  },
  {
   "cell_type": "code",
   "execution_count": null,
   "metadata": {
    "collapsed": false
   },
   "outputs": [],
   "source": [
    "subject_dct.keys()"
   ]
  },
  {
   "cell_type": "code",
   "execution_count": null,
   "metadata": {
    "collapsed": true
   },
   "outputs": [],
   "source": []
  }
 ],
 "metadata": {
  "kernelspec": {
   "display_name": "Python 3",
   "language": "python",
   "name": "python3"
  },
  "language_info": {
   "codemirror_mode": {
    "name": "ipython",
    "version": 3
   },
   "file_extension": ".py",
   "mimetype": "text/x-python",
   "name": "python",
   "nbconvert_exporter": "python",
   "pygments_lexer": "ipython3",
   "version": "3.4.2"
  }
 },
 "nbformat": 4,
 "nbformat_minor": 1
}
