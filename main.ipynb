{
 "cells": [
  {
   "cell_type": "markdown",
   "metadata": {},
   "source": [
    "--------------\n",
    "Get Data:"
   ]
  },
  {
   "cell_type": "code",
   "execution_count": 256,
   "metadata": {
    "collapsed": true
   },
   "outputs": [],
   "source": [
    "import copy"
   ]
  },
  {
   "cell_type": "code",
   "execution_count": 257,
   "metadata": {
    "collapsed": true
   },
   "outputs": [],
   "source": [
    "g = lambda x: [y.strip() for y in x]"
   ]
  },
  {
   "cell_type": "code",
   "execution_count": 258,
   "metadata": {
    "collapsed": false
   },
   "outputs": [],
   "source": [
    "classRooms = [\n",
    "    \"A1.04 \t41\",\n",
    "    \"A1.06 \t22\",\n",
    "    \"A1.08 \t20\",\n",
    "    \"A1.10 \t56\",\n",
    "    \"B0.201 \t48\",\n",
    "    \"C0.110 \t117\",\n",
    "    \"C1.112 \t60\",]\n",
    "\n",
    "classRooms = [g(x.split(\"\\t\")) for x in classRooms]"
   ]
  },
  {
   "cell_type": "code",
   "execution_count": 259,
   "metadata": {
    "collapsed": true
   },
   "outputs": [],
   "source": [
    "subjects = \"\"\"Advanced Heuristics \t1 \t0 \tnvt \t1 \t10\n",
    "Algoritmen en complexiteit \t1 \t1 \t25 \t1 \t25\n",
    "Analysemethoden en -technieken \t1 \t0 \tnvt \t0 \tnvt\n",
    "Architectuur en computerorganisatie \t2 \t0 \tnvt \t0 \tnvt\n",
    "Autonomous Agents 2 \t2 \t1 \t10 \t1 \t10\n",
    "Bioinformatica \t3 \t1 \t20 \t1 \t20\n",
    "Calculus 2 \t1 \t1 \t40 \t0 \tnvt\n",
    "Collectieve Intelligentie \t3 \t1 \t20 \t1 \t20\n",
    "Compilerbouw \t2 \t1 \t40 \t1 \t40\n",
    "Compilerbouw (practicum) \t0 \t0 \tnvt \t1 \t15\n",
    "Data Mining \t2 \t1 \t10 \t1 \t10\n",
    "Databases 2 \t1 \t1 \t40 \t0 \tnvt\n",
    "Heuristieken 1 \t1 \t1 \t25 \t0 \tnvt\n",
    "Heuristieken 2 \t1 \t1 \t20 \t0 \tnvt\n",
    "Informatie- en organisatieontwerp \t2 \t1 \t15 \t1 \t15\n",
    "Interactie-ontwerp \t2 \t0 \tnvt \t0 \tnvt\n",
    "Kansrekenen 2 \t2 \t0 \tnvt \t0 \tnvt\n",
    "Lineaire Algebra \t2 \t0 \tnvt \t0 \tnvt\n",
    "Machine Learning \t2 \t0 \tnvt \t0 \tnvt\n",
    "Moderne Databases \t1 \t1 \t20 \t1 \t20\n",
    "Netwerken en systeembeveiliging \t0 \t0 \tnvt \t1 \t20\n",
    "Programmeren in Java 2 \t0 \t0 \tnvt \t1 \t20\n",
    "Project Genetic Algorithms \t0 \t0 \tnvt \t1 \t15\n",
    "Project Numerical Recipes \t0 \t0 \tnvt \t1 \t15\n",
    "Reflectie op de digitale cultuur \t2 \t1 \t20 \t0 \tnvt\n",
    "Software engineering \t1 \t1 \t40 \t1 \t40\n",
    "Technology for games \t2 \t1 \t20 \t0 \tnvt\n",
    "Webprogrammeren en databases \t2 \t1 \t20 \t1 \t20\n",
    "Zoeken, sturen en bewegen \t0 \t0 \tnvt \t1 \t15\"\"\"\n",
    "\n",
    "subjects = [g(x.split(\"\\t\")) for x in subjects.split(\"\\n\")]"
   ]
  },
  {
   "cell_type": "code",
   "execution_count": 260,
   "metadata": {
    "collapsed": false
   },
   "outputs": [],
   "source": [
    "students = []\n",
    "\n",
    "import csv\n",
    "\n",
    "with open('studenten_roostering.csv', 'r') as csvfile:\n",
    "    r = csv.reader(csvfile, delimiter=',', quotechar='|')\n",
    "    \n",
    "    # Skip title\n",
    "    next(r, None)\n",
    "    \n",
    "    for row in r:\n",
    "        students.append(row)"
   ]
  },
  {
   "cell_type": "markdown",
   "metadata": {},
   "source": [
    "--------------\n",
    "Classes:"
   ]
  },
  {
   "cell_type": "code",
   "execution_count": 261,
   "metadata": {
    "collapsed": false
   },
   "outputs": [],
   "source": [
    "class ClassRoom:\n",
    "    def __init__(self, room_number, capacity):\n",
    "        self.room_number = room_number\n",
    "        self.capacity = capacity\n",
    "    \n",
    "    def __str__(self):\n",
    "        return self.room_number"
   ]
  },
  {
   "cell_type": "code",
   "execution_count": 262,
   "metadata": {
    "collapsed": false
   },
   "outputs": [],
   "source": [
    "class Subject:\n",
    "    def __init__(self, name, n_lectures, n_workLectures, w_maxStud, \n",
    "                 n_praticas, p_maxStud):\n",
    "        \n",
    "        self.name = name\n",
    "        \n",
    "        self.lectures = []\n",
    "        self.workLectures = []\n",
    "        self.praticas = []\n",
    "        \n",
    "        for i in range(int(n_lectures)):\n",
    "            self.lectures.append(Lecture(\"Lecture\", i, \"nvt\"))\n",
    "            \n",
    "        for i in range(int(n_workLectures)):\n",
    "            self.workLectures.append(Lecture(\"WorkLecture\", i, w_maxStud))\n",
    "            \n",
    "        for i in range(int(n_praticas)):\n",
    "            self.praticas.append(Lecture(\"Pratica\", i, p_maxStud))\n",
    "        \n",
    "        self.students = []\n",
    "        \n",
    "    def __str__(self):\n",
    "        return self.name\n",
    "    \n",
    "    def assignStudentsToLectures(self):\n",
    "        if len(self.workLectures) and self.workLectures[0].maxStud:\n",
    "            # Calculate number of groups and the number of students per lecture then round down\n",
    "            nGroups = int(len(self.students) / self.workLectures[0].maxStud)\n",
    "            wLectureSize = int(len(self.students) / nGroups)\n",
    "            \n",
    "            if nGroups > 1:\n",
    "                newWorkLectures = []\n",
    "                \n",
    "                # For every work lecture, there are the same groups that need to be filled\n",
    "                # But these groups also need to be created\n",
    "                for wLecture in self.workLectures:\n",
    "                    for groupNumber in range(nGroups):\n",
    "                        nLecture = copy.copy(wLecture)\n",
    "                        nLecture.group = groupNumber\n",
    "                        \n",
    "                        nLecture.students = self.students[groupNumber*wLectureSize:(groupNumber+1)*wLectureSize]\n",
    "                                                \n",
    "                        newWorkLectures.append(nLecture)\n",
    "                        \n",
    "                        \n",
    "                self.workLectures = newWorkLectures\n",
    "            \n",
    "        if len(self.praticas) and self.praticas[0].maxStud:\n",
    "            # Calculate number of groups and the number of students per lecture then round down\n",
    "            nGroups = int(len(self.students) / self.praticas[0].maxStud)\n",
    "            pLectureSize = int(len(self.students) / nGroups)\n",
    "            \n",
    "            if nGroups > 1:\n",
    "                newPraticaLectures = []\n",
    "                \n",
    "                # For every work lecture, there are the same groups that need to be filled\n",
    "                # But these groups also need to be created\n",
    "                for pLecture in self.praticas:\n",
    "                    for groupNumber in range(nGroups):\n",
    "                        nLecture = copy.copy(pLecture)\n",
    "                        nLecture.group = groupNumber\n",
    "                        \n",
    "                        nLecture.students = self.students[groupNumber*pLectureSize:(groupNumber+1)*pLectureSize]\n",
    "                                                \n",
    "                        newPraticaLectures.append(nLecture)\n",
    "                        \n",
    "                        \n",
    "                self.praticas = newPraticaLectures"
   ]
  },
  {
   "cell_type": "code",
   "execution_count": 263,
   "metadata": {
    "collapsed": false
   },
   "outputs": [],
   "source": [
    "class Lecture:\n",
    "    def __init__(self, name, lecture_number, maxStud):\n",
    "        self.lecture_number = lecture_number\n",
    "        self.name = name\n",
    "        \n",
    "        if maxStud == \"nvt\":\n",
    "            self.maxStud = 0\n",
    "        else:\n",
    "            self.maxStud = int(maxStud)\n",
    "        \n",
    "        self.students = []\n",
    "        self.group = 0\n",
    "        \n",
    "    def __str__(self):\n",
    "        return \"Name: %s Lecture number: %s Group: %s maxStud: %s\" % (self.name, self.lecture_number, self.group, self.maxStud)\n",
    "    "
   ]
  },
  {
   "cell_type": "code",
   "execution_count": 264,
   "metadata": {
    "collapsed": false
   },
   "outputs": [],
   "source": [
    "class Student:\n",
    "    def __init__(self, surname, name, studentId, subject1, subject2, \n",
    "                 subject3, subject4, subject5, subject_dct):\n",
    "        \n",
    "        self.surname = surname\n",
    "        self.name = name\n",
    "        self.studentId = studentId\n",
    "        \n",
    "        self.subjectNames = []\n",
    "        self.__addSubject(subject1)\n",
    "        self.__addSubject(subject2)\n",
    "        self.__addSubject(subject3)\n",
    "        self.__addSubject(subject4)\n",
    "        self.__addSubject(subject5)\n",
    "        \n",
    "        self.subjects = []\n",
    "        \n",
    "        self.__cleanUp()\n",
    "        self.__fillInSubject(subject_dct)\n",
    "        self.__addStudentToSubject()      \n",
    "        \n",
    "    def __str__(self):\n",
    "        return \"%s %s %s\" % (self.name, self.surname, self.studentId)\n",
    "    \n",
    "    def __addSubject(self, subject):\n",
    "        if subject != \"\":\n",
    "            self.subjectNames.append(subject)\n",
    "    \n",
    "    def __addStudentToSubject(self):\n",
    "        for subject in self.subjects:\n",
    "            subject.students.append(self)\n",
    "    \n",
    "    def __cleanUp(self):\n",
    "        # Fixes CSV errors\n",
    "        \n",
    "        for i, x in enumerate(self.subjectNames):\n",
    "            if x == \"Zoeken\":\n",
    "                self.subjectNames[i] = \"Zoeken, sturen en bewegen\"\n",
    "            if x == \" sturen en bewegen\":\n",
    "                del self.subjectNames[i]\n",
    "            if x == \"Compilerbouw practicum\":\n",
    "                self.subjectNames[i] = \"Compilerbouw (practicum)\"\n",
    "            if x == \"Informatie- en organsatieontwerp\":\n",
    "                self.subjectNames[i] = \"Informatie- en organisatieontwerp\"\n",
    "                \n",
    "    def __fillInSubject(self, subject_dct):\n",
    "        for subjectName in self.subjectNames:\n",
    "            self.subjects.append(subject_dct[subjectName])"
   ]
  },
  {
   "cell_type": "markdown",
   "metadata": {},
   "source": [
    "--------------\n",
    "Transform data:"
   ]
  },
  {
   "cell_type": "code",
   "execution_count": 265,
   "metadata": {
    "collapsed": false
   },
   "outputs": [],
   "source": [
    "classRooms = [ClassRoom(x[0], x[1]) for x in classRooms]\n",
    "\n",
    "subjects = [Subject(x[0], x[1], x[2], x[3], x[4], x[5]) for x in subjects]\n",
    "subject_dct = {x.__str__(): x for x in subjects}\n",
    "\n",
    "students = [Student(x[0], x[1], x[2], x[3], x[4], x[5], x[6], x[7], subject_dct) \n",
    "            for x in students]\n"
   ]
  },
  {
   "cell_type": "code",
   "execution_count": 266,
   "metadata": {
    "collapsed": false
   },
   "outputs": [],
   "source": [
    "# Assign students to lectures\n",
    "for x in subjects:\n",
    "    x.assignStudentsToLectures()"
   ]
  },
  {
   "cell_type": "code",
   "execution_count": 279,
   "metadata": {
    "collapsed": false
   },
   "outputs": [
    {
     "name": "stdout",
     "output_type": "stream",
     "text": [
      "Autonomous Agents 2\n",
      "Name: Pratica Lecture number: 0 Group: 0 maxStud: 10\n",
      "Name: Pratica Lecture number: 0 Group: 1 maxStud: 10\n"
     ]
    },
    {
     "data": {
      "text/plain": [
       "[(0,\n",
       "  ['Abdallah Beulen 22871048',\n",
       "   'Tarah Broerse 62872965',\n",
       "   'Virginie Brunsveld 5517869',\n",
       "   'Herwin Ester 74131924',\n",
       "   'Jurrian Fekkes 27298319',\n",
       "   'Deacon Gielissen 11915563',\n",
       "   'Umar Grift 70113753',\n",
       "   'Bo Hilhorst 36508571',\n",
       "   'Esmée Hooijmaijers 62356458',\n",
       "   'Danique Knibbe 16097870',\n",
       "   'Resul Kuijpers 54026378']),\n",
       " (1,\n",
       "  ['Roan Meulmeester 68409833',\n",
       "   'André Putters 37110913',\n",
       "   'Luciana Putters 61611295',\n",
       "   'Angelica Sarikaya 52552718',\n",
       "   'Emrah Schrama 44901052',\n",
       "   'Shaya Snelder 19858730',\n",
       "   'Deejay van der Geer 51566595',\n",
       "   'Tamimount van Herten 88627897',\n",
       "   'Lammigje van Loveren 39459642',\n",
       "   'Rhona Vromans 34806836',\n",
       "   'Filipe Wiersema 72796858'])]"
      ]
     },
     "execution_count": 279,
     "metadata": {},
     "output_type": "execute_result"
    }
   ],
   "source": [
    "i=4\n",
    "\n",
    "print(subjects[i])\n",
    "print(\"\\n\".join([x.__str__() for x in subjects[i].praticas]))\n",
    "[(x.group, [y.__str__() for y in x.students]) for x in subjects[i].praticas]"
   ]
  },
  {
   "cell_type": "code",
   "execution_count": 278,
   "metadata": {
    "collapsed": false
   },
   "outputs": [
    {
     "name": "stdout",
     "output_type": "stream",
     "text": [
      "Collectieve Intelligentie\n",
      "Name: WorkLecture Lecture number: 0 Group: 0 maxStud: 20\n",
      "Name: WorkLecture Lecture number: 0 Group: 1 maxStud: 20\n",
      "Name: WorkLecture Lecture number: 0 Group: 2 maxStud: 20\n"
     ]
    },
    {
     "data": {
      "text/plain": [
       "[(0,\n",
       "  ['Evi Appel 13534377',\n",
       "   'Rhona Bakkum 50184318',\n",
       "   'Wafa Bart 64296965',\n",
       "   'Sharan Baselmans 42778953',\n",
       "   'Edin Bastings 82689818',\n",
       "   'Ravi Bauer 51741554',\n",
       "   'Marrie Bekker 97135019',\n",
       "   'Ella Bischoff 46052388',\n",
       "   'Marco Bloemert 1075391',\n",
       "   'Femia Brink 45556081',\n",
       "   'Virginie Brunsveld 5517869',\n",
       "   'Laurentia Cooijmans 33760909',\n",
       "   'Marije de Vreeze 64393888',\n",
       "   'Brigitta Diallo 50143947',\n",
       "   'Sohrab Geers 87758823',\n",
       "   'Wichard Hospers 31416266',\n",
       "   'Jenske Jongejan 15902055',\n",
       "   'Kimmy Kesteloo 34773179',\n",
       "   'Ylse Klarenbeek 62701040',\n",
       "   'Matz Koning 48601268']),\n",
       " (1,\n",
       "  ['Titia Korbee 86291592',\n",
       "   'Vincent Kros 22699561',\n",
       "   'Buck Lantinga 23547619',\n",
       "   'Björn Leijen 3233378',\n",
       "   'Hetty Lindhout 1696500',\n",
       "   'Valéry Majoor 58522654',\n",
       "   'Miquel Metzelaar 86000192',\n",
       "   'Marcellus Mijnheer 4783858',\n",
       "   'Jorren Modderkolk 72577292',\n",
       "   'Shannon Mullenders 54310617',\n",
       "   'Inger Notermans 13092455',\n",
       "   'Casimir Overbeeke 17575088',\n",
       "   'Solane Paulissen 1665980',\n",
       "   'Xander Peijs 96104167',\n",
       "   'Matthijs Pleiter 77240949',\n",
       "   'Romello Reintjes 29474737',\n",
       "   'Fatime Rodenburg 7308727',\n",
       "   'Karolina Roodbeen 76123484',\n",
       "   'Sivar Rottier 17222374',\n",
       "   'Enes Siemonsma 35330349']),\n",
       " (2,\n",
       "  ['Christiana Siero 68601184',\n",
       "   'Jimi Sips 64228258',\n",
       "   'Silvie Thoma 57595888',\n",
       "   'Ard Tielemans 21964491',\n",
       "   'Emme Udo 42171678',\n",
       "   'Felien Uitslag 43027916',\n",
       "   'Liedeke van Bezooijen 28357474',\n",
       "   'Shawny van de Pol 42196732',\n",
       "   'Daisy van der Klei 77896638',\n",
       "   'Geerte van der Meij 60312776',\n",
       "   'Harwin van Loon 26406342',\n",
       "   'Sanne van Sleeuwen 9332762',\n",
       "   'Priscillia van Voorden 29640619',\n",
       "   'Bobby Veldhuis 61443567',\n",
       "   'Jiri Vinke 73980360',\n",
       "   'Reduan Warsame 65960683',\n",
       "   'Matisse Weij 37770881',\n",
       "   'Jos Welling 25106480',\n",
       "   'Harke Wester 53107172',\n",
       "   'Marck Wijngaarden 24277163'])]"
      ]
     },
     "execution_count": 278,
     "metadata": {},
     "output_type": "execute_result"
    }
   ],
   "source": [
    "i=7\n",
    "\n",
    "print(subjects[i])\n",
    "print(\"\\n\".join([x.__str__() for x in subjects[i].workLectures]))\n",
    "[(x.group, [y.__str__() for y in x.students]) for x in subjects[i].workLectures]"
   ]
  },
  {
   "cell_type": "code",
   "execution_count": 269,
   "metadata": {
    "collapsed": false
   },
   "outputs": [
    {
     "name": "stdout",
     "output_type": "stream",
     "text": [
      "Collectieve Intelligentie\n"
     ]
    },
    {
     "data": {
      "text/plain": [
       "['Evi Appel 13534377',\n",
       " 'Rhona Bakkum 50184318',\n",
       " 'Wafa Bart 64296965',\n",
       " 'Sharan Baselmans 42778953',\n",
       " 'Edin Bastings 82689818',\n",
       " 'Ravi Bauer 51741554',\n",
       " 'Marrie Bekker 97135019',\n",
       " 'Ella Bischoff 46052388',\n",
       " 'Marco Bloemert 1075391',\n",
       " 'Femia Brink 45556081',\n",
       " 'Virginie Brunsveld 5517869',\n",
       " 'Laurentia Cooijmans 33760909',\n",
       " 'Marije de Vreeze 64393888',\n",
       " 'Brigitta Diallo 50143947',\n",
       " 'Sohrab Geers 87758823',\n",
       " 'Wichard Hospers 31416266',\n",
       " 'Jenske Jongejan 15902055',\n",
       " 'Kimmy Kesteloo 34773179',\n",
       " 'Ylse Klarenbeek 62701040',\n",
       " 'Matz Koning 48601268',\n",
       " 'Titia Korbee 86291592',\n",
       " 'Vincent Kros 22699561',\n",
       " 'Buck Lantinga 23547619',\n",
       " 'Björn Leijen 3233378',\n",
       " 'Hetty Lindhout 1696500',\n",
       " 'Valéry Majoor 58522654',\n",
       " 'Miquel Metzelaar 86000192',\n",
       " 'Marcellus Mijnheer 4783858',\n",
       " 'Jorren Modderkolk 72577292',\n",
       " 'Shannon Mullenders 54310617',\n",
       " 'Inger Notermans 13092455',\n",
       " 'Casimir Overbeeke 17575088',\n",
       " 'Solane Paulissen 1665980',\n",
       " 'Xander Peijs 96104167',\n",
       " 'Matthijs Pleiter 77240949',\n",
       " 'Romello Reintjes 29474737',\n",
       " 'Fatime Rodenburg 7308727',\n",
       " 'Karolina Roodbeen 76123484',\n",
       " 'Sivar Rottier 17222374',\n",
       " 'Enes Siemonsma 35330349',\n",
       " 'Christiana Siero 68601184',\n",
       " 'Jimi Sips 64228258',\n",
       " 'Silvie Thoma 57595888',\n",
       " 'Ard Tielemans 21964491',\n",
       " 'Emme Udo 42171678',\n",
       " 'Felien Uitslag 43027916',\n",
       " 'Liedeke van Bezooijen 28357474',\n",
       " 'Shawny van de Pol 42196732',\n",
       " 'Daisy van der Klei 77896638',\n",
       " 'Geerte van der Meij 60312776',\n",
       " 'Harwin van Loon 26406342',\n",
       " 'Sanne van Sleeuwen 9332762',\n",
       " 'Priscillia van Voorden 29640619',\n",
       " 'Bobby Veldhuis 61443567',\n",
       " 'Jiri Vinke 73980360',\n",
       " 'Reduan Warsame 65960683',\n",
       " 'Matisse Weij 37770881',\n",
       " 'Jos Welling 25106480',\n",
       " 'Harke Wester 53107172',\n",
       " 'Marck Wijngaarden 24277163',\n",
       " 'Ayça Woertman 75521763']"
      ]
     },
     "execution_count": 269,
     "metadata": {},
     "output_type": "execute_result"
    }
   ],
   "source": [
    "# Laat alle studenten in Algoritmen en complexiteit zien:\n",
    "i = 7\n",
    "\n",
    "print(subjects[i])\n",
    "[x.__str__() for x in subjects[i].students]"
   ]
  },
  {
   "cell_type": "code",
   "execution_count": null,
   "metadata": {
    "collapsed": true
   },
   "outputs": [],
   "source": []
  }
 ],
 "metadata": {
  "kernelspec": {
   "display_name": "Python 3",
   "language": "python",
   "name": "python3"
  },
  "language_info": {
   "codemirror_mode": {
    "name": "ipython",
    "version": 3
   },
   "file_extension": ".py",
   "mimetype": "text/x-python",
   "name": "python",
   "nbconvert_exporter": "python",
   "pygments_lexer": "ipython3",
   "version": "3.4.2"
  }
 },
 "nbformat": 4,
 "nbformat_minor": 1
}
