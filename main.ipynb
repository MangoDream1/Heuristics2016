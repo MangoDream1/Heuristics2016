{
 "cells": [
  {
   "cell_type": "markdown",
   "metadata": {},
   "source": [
    "--------------\n",
    "Get Data:"
   ]
  },
  {
   "cell_type": "code",
   "execution_count": 86,
   "metadata": {
    "collapsed": true
   },
   "outputs": [],
   "source": [
    "import copy\n",
    "import math"
   ]
  },
  {
   "cell_type": "code",
   "execution_count": 87,
   "metadata": {
    "collapsed": true
   },
   "outputs": [],
   "source": [
    "g = lambda x: [y.strip() for y in x]"
   ]
  },
  {
   "cell_type": "code",
   "execution_count": 88,
   "metadata": {
    "collapsed": false
   },
   "outputs": [],
   "source": [
    "classRooms = [\n",
    "    \"A1.04 \t41\",\n",
    "    \"A1.06 \t22\",\n",
    "    \"A1.08 \t20\",\n",
    "    \"A1.10 \t56\",\n",
    "    \"B0.201 \t48\",\n",
    "    \"C0.110 \t117\",\n",
    "    \"C1.112 \t60\",]\n",
    "\n",
    "classRooms = [g(x.split(\"\\t\")) for x in classRooms]"
   ]
  },
  {
   "cell_type": "code",
   "execution_count": 89,
   "metadata": {
    "collapsed": true
   },
   "outputs": [],
   "source": [
    "subjects = \"\"\"Advanced Heuristics \t1 \t0 \tnvt \t1 \t10\n",
    "Algoritmen en complexiteit \t1 \t1 \t25 \t1 \t25\n",
    "Analysemethoden en -technieken \t1 \t0 \tnvt \t0 \tnvt\n",
    "Architectuur en computerorganisatie \t2 \t0 \tnvt \t0 \tnvt\n",
    "Autonomous Agents 2 \t2 \t1 \t10 \t1 \t10\n",
    "Bioinformatica \t3 \t1 \t20 \t1 \t20\n",
    "Calculus 2 \t1 \t1 \t40 \t0 \tnvt\n",
    "Collectieve Intelligentie \t3 \t1 \t20 \t1 \t20\n",
    "Compilerbouw \t2 \t1 \t40 \t1 \t40\n",
    "Compilerbouw (practicum) \t0 \t0 \tnvt \t1 \t15\n",
    "Data Mining \t2 \t1 \t10 \t1 \t10\n",
    "Databases 2 \t1 \t1 \t40 \t0 \tnvt\n",
    "Heuristieken 1 \t1 \t1 \t25 \t0 \tnvt\n",
    "Heuristieken 2 \t1 \t1 \t20 \t0 \tnvt\n",
    "Informatie- en organisatieontwerp \t2 \t1 \t15 \t1 \t15\n",
    "Interactie-ontwerp \t2 \t0 \tnvt \t0 \tnvt\n",
    "Kansrekenen 2 \t2 \t0 \tnvt \t0 \tnvt\n",
    "Lineaire Algebra \t2 \t0 \tnvt \t0 \tnvt\n",
    "Machine Learning \t2 \t0 \tnvt \t0 \tnvt\n",
    "Moderne Databases \t1 \t1 \t20 \t1 \t20\n",
    "Netwerken en systeembeveiliging \t0 \t0 \tnvt \t1 \t20\n",
    "Programmeren in Java 2 \t0 \t0 \tnvt \t1 \t20\n",
    "Project Genetic Algorithms \t0 \t0 \tnvt \t1 \t15\n",
    "Project Numerical Recipes \t0 \t0 \tnvt \t1 \t15\n",
    "Reflectie op de digitale cultuur \t2 \t1 \t20 \t0 \tnvt\n",
    "Software engineering \t1 \t1 \t40 \t1 \t40\n",
    "Technology for games \t2 \t1 \t20 \t0 \tnvt\n",
    "Webprogrammeren en databases \t2 \t1 \t20 \t1 \t20\n",
    "Zoeken, sturen en bewegen \t0 \t0 \tnvt \t1 \t15\"\"\"\n",
    "\n",
    "subjects = [g(x.split(\"\\t\")) for x in subjects.split(\"\\n\")]"
   ]
  },
  {
   "cell_type": "code",
   "execution_count": 90,
   "metadata": {
    "collapsed": false
   },
   "outputs": [],
   "source": [
    "students = []\n",
    "\n",
    "import csv\n",
    "\n",
    "with open('studenten_roostering.csv', 'r') as csvfile:\n",
    "    r = csv.reader(csvfile, delimiter=',', quotechar='|')\n",
    "    \n",
    "    # Skip title\n",
    "    next(r, None)\n",
    "    \n",
    "    for row in r:\n",
    "        students.append(row)"
   ]
  },
  {
   "cell_type": "markdown",
   "metadata": {},
   "source": [
    "--------------\n",
    "Classes:"
   ]
  },
  {
   "cell_type": "code",
   "execution_count": 91,
   "metadata": {
    "collapsed": false
   },
   "outputs": [],
   "source": [
    "class ClassRoom:\n",
    "    def __init__(self, room_number, capacity):\n",
    "        self.room_number = room_number\n",
    "        self.capacity = capacity\n",
    "    \n",
    "    def __str__(self):\n",
    "        return self.room_number"
   ]
  },
  {
   "cell_type": "code",
   "execution_count": 92,
   "metadata": {
    "collapsed": false
   },
   "outputs": [],
   "source": [
    "class Subject:\n",
    "    def __init__(self, name, n_lectures, n_workLectures, w_maxStud, \n",
    "                 n_practicas, p_maxStud):\n",
    "        \n",
    "        self.name = name\n",
    "        \n",
    "        self.lectures = [Lecture(\"Lecture\", i, \"nvt\") for i in range(int(n_lectures))]\n",
    "        self.workLectures = [Lecture(\"WorkLecture\", i, w_maxStud) for i in range(int(n_workLectures))]\n",
    "        self.practicas = [Lecture(\"Practica\", i, p_maxStud) for i in range(int(n_practicas))]\n",
    "        \n",
    "        self.students = []\n",
    "        \n",
    "    def __str__(self):\n",
    "        return self.name\n",
    "    \n",
    "    def assignStudentsToLectures(self):\n",
    "        if len(self.workLectures) and self.workLectures[0].maxStud:\n",
    "            # Calculate number of groups and the number of students per lecture then round up\n",
    "            nGroups = math.ceil(len(self.students) / self.workLectures[0].maxStud)\n",
    "            wLectureSize = math.ceil(len(self.students) / nGroups)\n",
    "            \n",
    "            if nGroups > 1:\n",
    "                newWorkLectures = []\n",
    "                \n",
    "                # For every work lecture, there are the same groups that need to be filled\n",
    "                # But these groups also need to be created\n",
    "                for wLecture in self.workLectures:\n",
    "                    for groupNumber in range(nGroups):\n",
    "                        nLecture = copy.copy(wLecture)\n",
    "                        nLecture.group = groupNumber\n",
    "                        \n",
    "                        nLecture.students = self.students[groupNumber*wLectureSize:(groupNumber+1)*wLectureSize]\n",
    "                                                \n",
    "                        newWorkLectures.append(nLecture)\n",
    "                        \n",
    "                        \n",
    "                self.workLectures = newWorkLectures\n",
    "            \n",
    "            else:\n",
    "                # Only one group, thus every student in the same group\n",
    "                for wLecture in self.workLectures:\n",
    "                    wLecture.students = self.students\n",
    "            \n",
    "        if len(self.practicas) and self.practicas[0].maxStud:\n",
    "            # Calculate number of groups and the number of students per lecture then round up\n",
    "            nGroups = math.ceil(len(self.students) / self.practicas[0].maxStud)\n",
    "            pLectureSize = math.ceil(len(self.students) / nGroups)\n",
    "            \n",
    "            if nGroups > 1:\n",
    "                newPracticaLectures = []\n",
    "                \n",
    "                # For every work lecture, there are the same groups that need to be filled\n",
    "                # But these groups also need to be created\n",
    "                for pLecture in self.practicas:\n",
    "                    for groupNumber in range(nGroups):\n",
    "                        nLecture = copy.copy(pLecture)\n",
    "                        nLecture.group = groupNumber\n",
    "                        \n",
    "                        nLecture.students = self.students[groupNumber*pLectureSize:(groupNumber+1)*pLectureSize]\n",
    "                                                \n",
    "                        newPracticaLectures.append(nLecture)\n",
    "            \n",
    "                    self.practicas = newPracticaLectures\n",
    "                    \n",
    "            else:\n",
    "                # Only one group, thus every student in the same group\n",
    "                for pLecture in self.practicas:\n",
    "                    pLecture.students = self.students     \n",
    "                        \n",
    "                "
   ]
  },
  {
   "cell_type": "code",
   "execution_count": 93,
   "metadata": {
    "collapsed": false
   },
   "outputs": [],
   "source": [
    "class Lecture:\n",
    "    def __init__(self, name, lecture_number, maxStud):\n",
    "        self.lecture_number = lecture_number\n",
    "        self.name = name\n",
    "        \n",
    "        if maxStud == \"nvt\":\n",
    "            self.maxStud = 0\n",
    "        else:\n",
    "            self.maxStud = int(maxStud)\n",
    "        \n",
    "        self.students = []\n",
    "        self.group = 0\n",
    "        \n",
    "    def __str__(self):\n",
    "        return \"Name: %s Lecture number: %s Group: %s maxStud: %s\" % (self.name, self.lecture_number, self.group, self.maxStud)\n",
    "    "
   ]
  },
  {
   "cell_type": "code",
   "execution_count": 94,
   "metadata": {
    "collapsed": false
   },
   "outputs": [],
   "source": [
    "class Student:\n",
    "    def __init__(self, surname, name, studentId, subject1, subject2, \n",
    "                 subject3, subject4, subject5, subject_dct):\n",
    "        \n",
    "        self.surname = surname\n",
    "        self.name = name\n",
    "        self.studentId = studentId\n",
    "        \n",
    "        self.subjectNames = []\n",
    "        self.__addSubject(subject1)\n",
    "        self.__addSubject(subject2)\n",
    "        self.__addSubject(subject3)\n",
    "        self.__addSubject(subject4)\n",
    "        self.__addSubject(subject5)\n",
    "        \n",
    "        self.subjects = []\n",
    "        \n",
    "        self.__cleanUp()\n",
    "        self.__fillInSubject(subject_dct)\n",
    "        self.__addStudentToSubject()      \n",
    "        \n",
    "    def __str__(self):\n",
    "        return \"%s %s %s\" % (self.name, self.surname, self.studentId)\n",
    "    \n",
    "    def __addSubject(self, subject):\n",
    "        if subject != \"\":\n",
    "            self.subjectNames.append(subject)\n",
    "    \n",
    "    def __addStudentToSubject(self):\n",
    "        for subject in self.subjects:\n",
    "            subject.students.append(self)\n",
    "    \n",
    "    def __cleanUp(self):\n",
    "        # Fixes CSV errors\n",
    "        \n",
    "        for i, x in enumerate(self.subjectNames):\n",
    "            if x == \"Zoeken\":\n",
    "                self.subjectNames[i] = \"Zoeken, sturen en bewegen\"\n",
    "            if x == \" sturen en bewegen\":\n",
    "                del self.subjectNames[i]\n",
    "            if x == \"Compilerbouw practicum\":\n",
    "                self.subjectNames[i] = \"Compilerbouw (practicum)\"\n",
    "            if x == \"Informatie- en organsatieontwerp\":\n",
    "                self.subjectNames[i] = \"Informatie- en organisatieontwerp\"\n",
    "                \n",
    "    def __fillInSubject(self, subject_dct):\n",
    "        for subjectName in self.subjectNames:\n",
    "            self.subjects.append(subject_dct[subjectName])"
   ]
  },
  {
   "cell_type": "markdown",
   "metadata": {},
   "source": [
    "--------------\n",
    "Transform data:"
   ]
  },
  {
   "cell_type": "code",
   "execution_count": 95,
   "metadata": {
    "collapsed": false
   },
   "outputs": [],
   "source": [
    "classRooms = [ClassRoom(x[0], x[1]) for x in classRooms]\n",
    "\n",
    "subjects = [Subject(x[0], x[1], x[2], x[3], x[4], x[5]) for x in subjects]\n",
    "subject_dct = {x.__str__(): x for x in subjects}\n",
    "\n",
    "students = [Student(x[0], x[1], x[2], x[3], x[4], x[5], x[6], x[7], subject_dct) \n",
    "            for x in students]\n"
   ]
  },
  {
   "cell_type": "code",
   "execution_count": 96,
   "metadata": {
    "collapsed": false
   },
   "outputs": [],
   "source": [
    "# Assign students to lectures\n",
    "for x in subjects:\n",
    "    x.assignStudentsToLectures()"
   ]
  },
  {
   "cell_type": "code",
   "execution_count": 102,
   "metadata": {
    "collapsed": false
   },
   "outputs": [
    {
     "name": "stdout",
     "output_type": "stream",
     "text": [
      "Algoritmen en complexiteit\n",
      "Name: Practica Lecture number: 0 Group: 0 maxStud: 25\n",
      "Name: Practica Lecture number: 0 Group: 1 maxStud: 25\n"
     ]
    },
    {
     "data": {
      "text/plain": [
       "[(0,\n",
       "  22,\n",
       "  ['Edin Bastings 82689818',\n",
       "   'Mattijs Baudoin 81385263',\n",
       "   'Angèle Berentsen 78136904',\n",
       "   'Emil Bergmans 8522855',\n",
       "   'Saba Bhaggoe 41585485',\n",
       "   'Narin Boshuis 19540225',\n",
       "   'Ethan Broer 14671406',\n",
       "   'Wytske Buining 86988337',\n",
       "   'Lucienne Caris 12077419',\n",
       "   'Manuël de Boon 46701583',\n",
       "   'Janniek de Leest 66433883',\n",
       "   'Brigitta Diallo 50143947',\n",
       "   'André Dieters 57467488',\n",
       "   'Ko Droste 26260141',\n",
       "   'Jurrian Fekkes 27298319',\n",
       "   'Yalda Grootenboer 72895450',\n",
       "   'Frédéric IJkema 77376714',\n",
       "   'Jenske Jongejan 15902055',\n",
       "   'Chi Liebregts 88596522',\n",
       "   'Fredrika Lopez 21095566',\n",
       "   'Lisse Moes 53585410',\n",
       "   'Inas Niezen 67817269']),\n",
       " (1,\n",
       "  21,\n",
       "  ['Vincentius Pater 34765676',\n",
       "   'Solane Paulissen 1665980',\n",
       "   'Rémy Piek 5976174',\n",
       "   'Timo Postuma 36903574',\n",
       "   'Desireé Potgieter 64947290',\n",
       "   'Cheyenna Reuvekamp 3474870',\n",
       "   'Karam Rinkel 41527759',\n",
       "   'Ziya Rooijmans 43902015',\n",
       "   'Tevfik Rothuizen 40343779',\n",
       "   'Logan Sonnemans 91527663',\n",
       "   'Franke Stoppels 64554442',\n",
       "   'Ard Tielemans 21964491',\n",
       "   'Deejay van der Geer 51566595',\n",
       "   'Ay?egül van der Marel 51509565',\n",
       "   'Aïcha van der Meer 23983476',\n",
       "   'Berit van Ingen 3707829',\n",
       "   'Jodi van Riel 58592894',\n",
       "   'Julot van Teeffelen 96453361',\n",
       "   'Laurent Wallenburg 44828429',\n",
       "   'Yuna Winkelaar 23652927',\n",
       "   'Gabriëlla Yazici 52715680'])]"
      ]
     },
     "execution_count": 102,
     "metadata": {},
     "output_type": "execute_result"
    }
   ],
   "source": [
    "i=1\n",
    "\n",
    "print(subjects[i])\n",
    "print(\"\\n\".join([x.__str__() for x in subjects[i].practicas]))\n",
    "[(x.group, len([y.__str__() for y in x.students]), [y.__str__() for y in x.students]) for x in subjects[i].practicas]"
   ]
  },
  {
   "cell_type": "code",
   "execution_count": 103,
   "metadata": {
    "collapsed": false
   },
   "outputs": [
    {
     "name": "stdout",
     "output_type": "stream",
     "text": [
      "Algoritmen en complexiteit\n",
      "Name: WorkLecture Lecture number: 0 Group: 0 maxStud: 25\n",
      "Name: WorkLecture Lecture number: 0 Group: 1 maxStud: 25\n"
     ]
    },
    {
     "data": {
      "text/plain": [
       "[(0,\n",
       "  22,\n",
       "  ['Edin Bastings 82689818',\n",
       "   'Mattijs Baudoin 81385263',\n",
       "   'Angèle Berentsen 78136904',\n",
       "   'Emil Bergmans 8522855',\n",
       "   'Saba Bhaggoe 41585485',\n",
       "   'Narin Boshuis 19540225',\n",
       "   'Ethan Broer 14671406',\n",
       "   'Wytske Buining 86988337',\n",
       "   'Lucienne Caris 12077419',\n",
       "   'Manuël de Boon 46701583',\n",
       "   'Janniek de Leest 66433883',\n",
       "   'Brigitta Diallo 50143947',\n",
       "   'André Dieters 57467488',\n",
       "   'Ko Droste 26260141',\n",
       "   'Jurrian Fekkes 27298319',\n",
       "   'Yalda Grootenboer 72895450',\n",
       "   'Frédéric IJkema 77376714',\n",
       "   'Jenske Jongejan 15902055',\n",
       "   'Chi Liebregts 88596522',\n",
       "   'Fredrika Lopez 21095566',\n",
       "   'Lisse Moes 53585410',\n",
       "   'Inas Niezen 67817269']),\n",
       " (1,\n",
       "  21,\n",
       "  ['Vincentius Pater 34765676',\n",
       "   'Solane Paulissen 1665980',\n",
       "   'Rémy Piek 5976174',\n",
       "   'Timo Postuma 36903574',\n",
       "   'Desireé Potgieter 64947290',\n",
       "   'Cheyenna Reuvekamp 3474870',\n",
       "   'Karam Rinkel 41527759',\n",
       "   'Ziya Rooijmans 43902015',\n",
       "   'Tevfik Rothuizen 40343779',\n",
       "   'Logan Sonnemans 91527663',\n",
       "   'Franke Stoppels 64554442',\n",
       "   'Ard Tielemans 21964491',\n",
       "   'Deejay van der Geer 51566595',\n",
       "   'Ay?egül van der Marel 51509565',\n",
       "   'Aïcha van der Meer 23983476',\n",
       "   'Berit van Ingen 3707829',\n",
       "   'Jodi van Riel 58592894',\n",
       "   'Julot van Teeffelen 96453361',\n",
       "   'Laurent Wallenburg 44828429',\n",
       "   'Yuna Winkelaar 23652927',\n",
       "   'Gabriëlla Yazici 52715680'])]"
      ]
     },
     "execution_count": 103,
     "metadata": {},
     "output_type": "execute_result"
    }
   ],
   "source": [
    "print(subjects[i])\n",
    "print(\"\\n\".join([x.__str__() for x in subjects[i].workLectures]))\n",
    "[(x.group, len([y.__str__() for y in x.students]), [y.__str__() for y in x.students]) for x in subjects[i].workLectures]"
   ]
  },
  {
   "cell_type": "code",
   "execution_count": 104,
   "metadata": {
    "collapsed": false
   },
   "outputs": [
    {
     "name": "stdout",
     "output_type": "stream",
     "text": [
      "Algoritmen en complexiteit\n"
     ]
    },
    {
     "data": {
      "text/plain": [
       "['Edin Bastings 82689818',\n",
       " 'Mattijs Baudoin 81385263',\n",
       " 'Angèle Berentsen 78136904',\n",
       " 'Emil Bergmans 8522855',\n",
       " 'Saba Bhaggoe 41585485',\n",
       " 'Narin Boshuis 19540225',\n",
       " 'Ethan Broer 14671406',\n",
       " 'Wytske Buining 86988337',\n",
       " 'Lucienne Caris 12077419',\n",
       " 'Manuël de Boon 46701583',\n",
       " 'Janniek de Leest 66433883',\n",
       " 'Brigitta Diallo 50143947',\n",
       " 'André Dieters 57467488',\n",
       " 'Ko Droste 26260141',\n",
       " 'Jurrian Fekkes 27298319',\n",
       " 'Yalda Grootenboer 72895450',\n",
       " 'Frédéric IJkema 77376714',\n",
       " 'Jenske Jongejan 15902055',\n",
       " 'Chi Liebregts 88596522',\n",
       " 'Fredrika Lopez 21095566',\n",
       " 'Lisse Moes 53585410',\n",
       " 'Inas Niezen 67817269',\n",
       " 'Vincentius Pater 34765676',\n",
       " 'Solane Paulissen 1665980',\n",
       " 'Rémy Piek 5976174',\n",
       " 'Timo Postuma 36903574',\n",
       " 'Desireé Potgieter 64947290',\n",
       " 'Cheyenna Reuvekamp 3474870',\n",
       " 'Karam Rinkel 41527759',\n",
       " 'Ziya Rooijmans 43902015',\n",
       " 'Tevfik Rothuizen 40343779',\n",
       " 'Logan Sonnemans 91527663',\n",
       " 'Franke Stoppels 64554442',\n",
       " 'Ard Tielemans 21964491',\n",
       " 'Deejay van der Geer 51566595',\n",
       " 'Ay?egül van der Marel 51509565',\n",
       " 'Aïcha van der Meer 23983476',\n",
       " 'Berit van Ingen 3707829',\n",
       " 'Jodi van Riel 58592894',\n",
       " 'Julot van Teeffelen 96453361',\n",
       " 'Laurent Wallenburg 44828429',\n",
       " 'Yuna Winkelaar 23652927',\n",
       " 'Gabriëlla Yazici 52715680']"
      ]
     },
     "execution_count": 104,
     "metadata": {},
     "output_type": "execute_result"
    }
   ],
   "source": [
    "# Laat alle studenten zien van vak i\n",
    "print(subjects[i])\n",
    "[x.__str__() for x in subjects[i].students]"
   ]
  },
  {
   "cell_type": "code",
   "execution_count": null,
   "metadata": {
    "collapsed": true
   },
   "outputs": [],
   "source": []
  }
 ],
 "metadata": {
  "kernelspec": {
   "display_name": "Python 3",
   "language": "python",
   "name": "python3"
  },
  "language_info": {
   "codemirror_mode": {
    "name": "ipython",
    "version": 3
   },
   "file_extension": ".py",
   "mimetype": "text/x-python",
   "name": "python",
   "nbconvert_exporter": "python",
   "pygments_lexer": "ipython3",
   "version": "3.4.2"
  }
 },
 "nbformat": 4,
 "nbformat_minor": 1
}
